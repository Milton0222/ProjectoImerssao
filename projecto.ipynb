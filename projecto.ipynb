{
  "nbformat": 4,
  "nbformat_minor": 0,
  "metadata": {
    "colab": {
      "provenance": [],
      "authorship_tag": "ABX9TyOQxEoAL7DTrirb2rkwhH/l",
      "include_colab_link": true
    },
    "kernelspec": {
      "name": "python3",
      "display_name": "Python 3"
    },
    "language_info": {
      "name": "python"
    }
  },
  "cells": [
    {
      "cell_type": "markdown",
      "metadata": {
        "id": "view-in-github",
        "colab_type": "text"
      },
      "source": [
        "<a href=\"https://colab.research.google.com/github/Milton0222/ProjectoImerssao/blob/main/projecto.ipynb\" target=\"_parent\"><img src=\"https://colab.research.google.com/assets/colab-badge.svg\" alt=\"Open In Colab\"/></a>"
      ]
    },
    {
      "cell_type": "code",
      "execution_count": 2,
      "metadata": {
        "id": "EHc7K96ZD-fr"
      },
      "outputs": [],
      "source": [
        "!pip install -q -U google-generativeai"
      ]
    },
    {
      "cell_type": "markdown",
      "source": [
        "Immportando bibliotecas"
      ],
      "metadata": {
        "id": "DcgwCPb1Ecc2"
      }
    },
    {
      "cell_type": "code",
      "source": [
        "import google.generativeai as genai\n",
        "from google.colab import userdata\n",
        "api_key=userdata.get('secret_key')\n",
        "genai.configure(api_key=api_key)"
      ],
      "metadata": {
        "id": "GeudxAq_EgEl"
      },
      "execution_count": 3,
      "outputs": []
    },
    {
      "cell_type": "markdown",
      "source": [
        "Visualizar os modelos"
      ],
      "metadata": {
        "id": "z9Tt9QraFuEv"
      }
    },
    {
      "cell_type": "code",
      "source": [
        "for m in genai.list_models():\n",
        "  if 'generateContent' in m.supported_generation_methods:\n",
        "    print(m.name)"
      ],
      "metadata": {
        "colab": {
          "base_uri": "https://localhost:8080/",
          "height": 138
        },
        "id": "zZi_5C90FxEw",
        "outputId": "8b15f6ed-a85b-43d7-9096-332ef3a8948a"
      },
      "execution_count": 4,
      "outputs": [
        {
          "output_type": "stream",
          "name": "stdout",
          "text": [
            "models/gemini-1.0-pro\n",
            "models/gemini-1.0-pro-001\n",
            "models/gemini-1.0-pro-latest\n",
            "models/gemini-1.0-pro-vision-latest\n",
            "models/gemini-1.5-pro-latest\n",
            "models/gemini-pro\n",
            "models/gemini-pro-vision\n"
          ]
        }
      ]
    },
    {
      "cell_type": "markdown",
      "source": [
        "Criar modelo"
      ],
      "metadata": {
        "id": "KN5oWcxWGflB"
      }
    },
    {
      "cell_type": "code",
      "source": [
        "model=genai.GenerativeModel(model_name='gemini-1.0-pro')"
      ],
      "metadata": {
        "id": "hc22D1BxGjeC"
      },
      "execution_count": 5,
      "outputs": []
    },
    {
      "cell_type": "code",
      "source": [
        "script=input('Aguardan por instrução: ')\n",
        "\n",
        "while(script !=\"fim\"):\n",
        "  response=model.generate_content(script)\n",
        "  print(response.text)\n",
        "  script=input('Aguardan por instrução: ')\n",
        "print('Fim do questionario')"
      ],
      "metadata": {
        "id": "Y8S_OuGPP2dM"
      },
      "execution_count": null,
      "outputs": []
    },
    {
      "cell_type": "markdown",
      "source": [
        "Criando chatBoot"
      ],
      "metadata": {
        "id": "IcbR8YSFKRmm"
      }
    },
    {
      "cell_type": "code",
      "source": [
        "chtaM=model.start_chat(history=[])"
      ],
      "metadata": {
        "id": "yfbpVrapKUuQ"
      },
      "execution_count": 12,
      "outputs": []
    },
    {
      "cell_type": "code",
      "source": [
        "prompt=input('Em que posso ajudar? ')\n",
        "while(prompt !=\"não\"):\n",
        "  response=chtaM.send_message(prompt)\n",
        "  print('Resposta: ',response.text)\n",
        "  prompt=input('Precisas de mas alguma coisa? ')"
      ],
      "metadata": {
        "colab": {
          "base_uri": "https://localhost:8080/"
        },
        "id": "48fF0c9HQR99",
        "outputId": "6a0ac36d-51be-4f41-bf3a-531d21e2fd41"
      },
      "execution_count": 18,
      "outputs": [
        {
          "name": "stdout",
          "output_type": "stream",
          "text": [
            "Em que posso ajudar? não\n"
          ]
        }
      ]
    }
  ]
}